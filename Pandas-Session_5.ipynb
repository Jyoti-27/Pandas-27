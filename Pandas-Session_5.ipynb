{
 "cells": [
  {
   "cell_type": "code",
   "execution_count": 1,
   "metadata": {},
   "outputs": [],
   "source": [
    "import pandas as pd"
   ]
  },
  {
   "cell_type": "code",
   "execution_count": null,
   "metadata": {},
   "outputs": [],
   "source": [
    "df1=pd.DataFrame({'key' :['b', 'a', 'd', 'e'], 'data1' :[0,4,6,8]})  # has unique\n",
    "df2=pd.DataFrame({'key' :['a', 'b', 'd', 'f'],'data2' :[3,6,9,11]}) # has unique row labels\n",
    "print(\"DataFrame1 :\\n\", df1, '\\n DataFrame2 :\\n',df2)\n",
    "print(\"Inner Join :\\n\", pd.merge(df1,df2,on='key', how='inner', sort=True))  # intersection of keys"
   ]
  },
  {
   "cell_type": "code",
   "execution_count": 2,
   "metadata": {},
   "outputs": [
    {
     "name": "stdout",
     "output_type": "stream",
     "text": [
      "Student DataFrame: \n",
      "    st_id Branch\n",
      "0    101     IT\n",
      "1    102     CS\n",
      "2    103    ECE\n",
      "3    104     CS\n",
      "4    105   MECH \n",
      " Faculty DataFrame : \n",
      "    F_id Branch\n",
      "0   110    ECE\n",
      "1   120   MECH\n",
      "2   130    EEE\n",
      "3   140     IT\n",
      "4   150     CS\n",
      "Merged DataFrame : \n",
      "    st_id Branch  F_id\n",
      "0    102     CS   150\n",
      "1    104     CS   150\n",
      "2    103    ECE   110\n",
      "3    101     IT   140\n",
      "4    105   MECH   120\n"
     ]
    }
   ],
   "source": [
    "df_stud = pd.DataFrame({'st_id' : [101,102,103,104,105], 'Branch' : ['IT', 'CS','ECE', 'CS', 'MECH']})\n",
    "df_fac = pd.DataFrame({'F_id' : [110,120,130,140,150], 'Branch' : ['ECE', 'MECH','EEE', 'IT', 'CS']})\n",
    "print(\"Student DataFrame: \\n\", df_stud, '\\n Faculty DataFrame : \\n', df_fac)\n",
    "df_merge=pd.merge(df_stud,df_fac,on='Branch', how='inner', sort=True)\n",
    "print(\"Merged DataFrame : \\n\", df_merge)   #Merge on a column"
   ]
  },
  {
   "cell_type": "code",
   "execution_count": 5,
   "metadata": {},
   "outputs": [
    {
     "name": "stdout",
     "output_type": "stream",
     "text": [
      "Student Details: \n",
      "    st_id Branch\n",
      "0    101     IT\n",
      "1    102     CS\n",
      "2    103    ECE\n",
      "3    104     CS\n",
      "4    105   MECH \n",
      " Faculty Details : \n",
      "   F_name Stream\n",
      "0      A    ECE\n",
      "1      B   MECH\n",
      "2      C    EEE\n",
      "3      D     IT\n",
      "4      E     CS\n",
      "Merged DataFrame : \n",
      "    st_id Branch F_name Stream\n",
      "0    101     IT      D     IT\n",
      "1    102     CS      E     CS\n",
      "2    104     CS      E     CS\n",
      "3    103    ECE      A    ECE\n",
      "4    105   MECH      B   MECH\n"
     ]
    }
   ],
   "source": [
    "df_stud = pd.DataFrame({'st_id' : [101,102,103,104,105], 'Branch' : ['IT', 'CS','ECE', 'CS', 'MECH']})\n",
    "df_fac = pd.DataFrame({'F_name' : ['A', 'B', 'C', 'D', 'E'], 'Stream' : ['ECE', 'MECH','EEE', 'IT', 'CS']})\n",
    "print(\"Student Details: \\n\", df_stud, '\\n Faculty Details : \\n', df_fac)\n",
    "#df_merge=pd.merge(df_stud,df_fac,on='Branch', how='inner', sort=True)\n",
    "print(\"Merged DataFrame : \\n\", pd.merge(df_stud,df_fac,left_on = 'Branch', right_on = 'Stream'))   #Merge on a column"
   ]
  },
  {
   "cell_type": "code",
   "execution_count": 8,
   "metadata": {},
   "outputs": [
    {
     "data": {
      "text/html": [
       "<div>\n",
       "<style scoped>\n",
       "    .dataframe tbody tr th:only-of-type {\n",
       "        vertical-align: middle;\n",
       "    }\n",
       "\n",
       "    .dataframe tbody tr th {\n",
       "        vertical-align: top;\n",
       "    }\n",
       "\n",
       "    .dataframe thead th {\n",
       "        text-align: right;\n",
       "    }\n",
       "</style>\n",
       "<table border=\"1\" class=\"dataframe\">\n",
       "  <thead>\n",
       "    <tr style=\"text-align: right;\">\n",
       "      <th></th>\n",
       "      <th>st_id</th>\n",
       "      <th>Branch</th>\n",
       "      <th>F_name</th>\n",
       "    </tr>\n",
       "  </thead>\n",
       "  <tbody>\n",
       "    <tr>\n",
       "      <th>0</th>\n",
       "      <td>101</td>\n",
       "      <td>IT</td>\n",
       "      <td>D</td>\n",
       "    </tr>\n",
       "    <tr>\n",
       "      <th>1</th>\n",
       "      <td>102</td>\n",
       "      <td>CS</td>\n",
       "      <td>E</td>\n",
       "    </tr>\n",
       "    <tr>\n",
       "      <th>2</th>\n",
       "      <td>104</td>\n",
       "      <td>CS</td>\n",
       "      <td>E</td>\n",
       "    </tr>\n",
       "    <tr>\n",
       "      <th>3</th>\n",
       "      <td>103</td>\n",
       "      <td>ECE</td>\n",
       "      <td>A</td>\n",
       "    </tr>\n",
       "    <tr>\n",
       "      <th>4</th>\n",
       "      <td>105</td>\n",
       "      <td>MECH</td>\n",
       "      <td>B</td>\n",
       "    </tr>\n",
       "  </tbody>\n",
       "</table>\n",
       "</div>"
      ],
      "text/plain": [
       "   st_id Branch F_name\n",
       "0    101     IT      D\n",
       "1    102     CS      E\n",
       "2    104     CS      E\n",
       "3    103    ECE      A\n",
       "4    105   MECH      B"
      ]
     },
     "execution_count": 8,
     "metadata": {},
     "output_type": "execute_result"
    }
   ],
   "source": [
    "# The redundant column also dropped\n",
    "pd.merge(df_stud,df_fac,left_on='Branch',right_on='Stream').drop('Stream',axis=1)"
   ]
  },
  {
   "cell_type": "code",
   "execution_count": 62,
   "metadata": {},
   "outputs": [
    {
     "data": {
      "text/html": [
       "<div>\n",
       "<style scoped>\n",
       "    .dataframe tbody tr th:only-of-type {\n",
       "        vertical-align: middle;\n",
       "    }\n",
       "\n",
       "    .dataframe tbody tr th {\n",
       "        vertical-align: top;\n",
       "    }\n",
       "\n",
       "    .dataframe thead th {\n",
       "        text-align: right;\n",
       "    }\n",
       "</style>\n",
       "<table border=\"1\" class=\"dataframe\">\n",
       "  <thead>\n",
       "    <tr style=\"text-align: right;\">\n",
       "      <th></th>\n",
       "      <th>st_id</th>\n",
       "      <th>Branch</th>\n",
       "      <th>F_name</th>\n",
       "    </tr>\n",
       "  </thead>\n",
       "  <tbody>\n",
       "    <tr>\n",
       "      <th>0</th>\n",
       "      <td>101</td>\n",
       "      <td>IT</td>\n",
       "      <td>D</td>\n",
       "    </tr>\n",
       "    <tr>\n",
       "      <th>1</th>\n",
       "      <td>102</td>\n",
       "      <td>CS</td>\n",
       "      <td>E</td>\n",
       "    </tr>\n",
       "    <tr>\n",
       "      <th>2</th>\n",
       "      <td>104</td>\n",
       "      <td>CS</td>\n",
       "      <td>E</td>\n",
       "    </tr>\n",
       "    <tr>\n",
       "      <th>3</th>\n",
       "      <td>103</td>\n",
       "      <td>ECE</td>\n",
       "      <td>A</td>\n",
       "    </tr>\n",
       "    <tr>\n",
       "      <th>4</th>\n",
       "      <td>105</td>\n",
       "      <td>MECH</td>\n",
       "      <td>B</td>\n",
       "    </tr>\n",
       "  </tbody>\n",
       "</table>\n",
       "</div>"
      ],
      "text/plain": [
       "   st_id Branch F_name\n",
       "0    101     IT      D\n",
       "1    102     CS      E\n",
       "2    104     CS      E\n",
       "3    103    ECE      A\n",
       "4    105   MECH      B"
      ]
     },
     "execution_count": 62,
     "metadata": {},
     "output_type": "execute_result"
    }
   ],
   "source": [
    "# The redundant column can also be dropped\n",
    "new_df=pd.merge(df_stud,df_fac,left_on = 'Branch', right_on='Stream')\n",
    "new_df\n",
    "new_df.drop('Stream', axis=1)"
   ]
  },
  {
   "cell_type": "code",
   "execution_count": 9,
   "metadata": {},
   "outputs": [
    {
     "name": "stdout",
     "output_type": "stream",
     "text": [
      "DataFrame1 :\n",
      "   key  data1\n",
      "0   b      0\n",
      "1   a      4\n",
      "2   d      6\n",
      "3   e      8 \n",
      " DataFrame2 :\n",
      "   key  data2\n",
      "0   a      3\n",
      "1   b      6\n",
      "2   d      9\n",
      "3   f     11\n"
     ]
    }
   ],
   "source": [
    "df1=pd.DataFrame({'key' :['b', 'a', 'd', 'e'], 'data1' :[0,4,6,8]})  # has unique\n",
    "df2=pd.DataFrame({'key' :['a', 'b', 'd', 'f'],'data2' :[3,6,9,11]}) # has unique row labels\n",
    "print(\"DataFrame1 :\\n\", df1, '\\n DataFrame2 :\\n',df2)"
   ]
  },
  {
   "cell_type": "code",
   "execution_count": 12,
   "metadata": {},
   "outputs": [
    {
     "name": "stdout",
     "output_type": "stream",
     "text": [
      "DataFrame1 :\n",
      "   key  data1\n",
      "0   b      0\n",
      "1   a      4\n",
      "2   d      6\n",
      "3   e      8 \n",
      " DataFrame2 :\n",
      "   key  data2\n",
      "0   a      3\n",
      "1   b      6\n",
      "2   d      9\n",
      "3   f     11\n",
      "Outer Join :\n",
      "   key_x  data1 key_y  data2\n",
      "0     b      0     a      3\n",
      "1     a      4     b      6\n",
      "2     d      6     d      9\n",
      "3     e      8     f     11\n"
     ]
    }
   ],
   "source": [
    "df1=pd.DataFrame({'key' :['b', 'a', 'd', 'e'], 'data1' :[0,4,6,8]})  # has unique\n",
    "df2=pd.DataFrame({'key' :['a', 'b', 'd', 'f'],'data2' :[3,6,9,11]}) # has unique row labels\n",
    "print(\"DataFrame1 :\\n\", df1, '\\n DataFrame2 :\\n',df2)\n",
    "print(\"Outer Join :\\n\", pd.merge(df1,df2, how='outer', left_index=True, right_index=True))  # union of keys"
   ]
  },
  {
   "cell_type": "code",
   "execution_count": 14,
   "metadata": {},
   "outputs": [
    {
     "name": "stdout",
     "output_type": "stream",
     "text": [
      "DataFrame1 :\n",
      "   key  data1\n",
      "0   b      0\n",
      "1   a      4\n",
      "2   d      6\n",
      "3   e      8 \n",
      " DataFrame2 :\n",
      "   key  data2\n",
      "0   a      3\n",
      "1   b      6\n",
      "2   d      9\n",
      "3   f     11\n",
      "Outer Join :\n",
      "   key_x  data1 key_y  data2\n",
      "0     b      0     a      3\n",
      "1     a      4     b      6\n",
      "2     d      6     d      9\n",
      "3     e      8     f     11\n"
     ]
    }
   ],
   "source": [
    "df1=pd.DataFrame({'key' :['b', 'a', 'd', 'e'], 'data1' :[0,4,6,8]})  # has unique\n",
    "df2=pd.DataFrame({'key' :['a', 'b', 'd', 'f'],'data2' :[3,6,9,11]}) # has unique row labels\n",
    "print(\"DataFrame1 :\\n\", df1, '\\n DataFrame2 :\\n',df2)\n",
    "print(\"Outer Join :\\n\", pd.merge(df1,df2, how='outer', left_index=True, right_index=True))  # union of keys\n",
    "# by default it adds suffixes _x and _yon the same column\n",
    "# by default how = inner, here we can have all options"
   ]
  },
  {
   "cell_type": "code",
   "execution_count": 19,
   "metadata": {},
   "outputs": [
    {
     "name": "stdout",
     "output_type": "stream",
     "text": [
      "\n",
      " Using merge on indices: \n",
      "   key_x  data1 key_y  data2\n",
      "0     b      0     a      3\n",
      "1     a      4     b      6\n",
      "2     d      6     d      9\n",
      "3     e      8     f     11\n"
     ]
    }
   ],
   "source": [
    "print('\\n Using merge on indices: \\n', pd.merge(df1,df2,how='outer', left_index=True, right_index=True))"
   ]
  },
  {
   "cell_type": "code",
   "execution_count": 22,
   "metadata": {},
   "outputs": [
    {
     "name": "stdout",
     "output_type": "stream",
     "text": [
      "\n",
      " Using join() : \n",
      "   key_x  data1 key_y  data2\n",
      "0     b      0     a      3\n",
      "1     a      4     b      6\n",
      "2     d      6     d      9\n",
      "3     e      8     f     11\n"
     ]
    }
   ],
   "source": [
    "#DataFrame has a convinient join method for merging by index\n",
    "#print('\\n Using join() : \\n', df1.join(df2))\n",
    "print('\\n Using join() : \\n',df1.join(df2,lsuffix='_x', rsuffix='_y'))\n",
    "#lsuffix='_x', rsuffix='_y'\n",
    "#default is left join"
   ]
  },
  {
   "cell_type": "code",
   "execution_count": 56,
   "metadata": {},
   "outputs": [
    {
     "name": "stdout",
     "output_type": "stream",
     "text": [
      "Concatenated DataFrames axis = 1 \n",
      "   key  data11  key  data12\n",
      "0   b      10    a   100.0\n",
      "1   b      20    b   200.0\n",
      "2   a      30    a   300.0\n",
      "3   c      40    d   400.0\n",
      "4   a      50  NaN     NaN\n"
     ]
    }
   ],
   "source": [
    "print(\"Concatenated DataFrames axis = 1 \\n\", pd.concat([df1,df2], axis=1))"
   ]
  },
  {
   "cell_type": "code",
   "execution_count": 54,
   "metadata": {},
   "outputs": [
    {
     "name": "stdout",
     "output_type": "stream",
     "text": [
      "Concatenated DataFrames axis =0 \n",
      "   key  data11  data12\n",
      "0   b    10.0     NaN\n",
      "1   b    20.0     NaN\n",
      "2   a    30.0     NaN\n",
      "3   c    40.0     NaN\n",
      "4   a    50.0     NaN\n",
      "0   a     NaN   100.0\n",
      "1   b     NaN   200.0\n",
      "2   a     NaN   300.0\n",
      "3   d     NaN   400.0\n"
     ]
    }
   ],
   "source": [
    "print(\"Concatenated DataFrames axis =0 \\n\", pd.concat([df1,df2], axis=0))"
   ]
  },
  {
   "cell_type": "code",
   "execution_count": 24,
   "metadata": {},
   "outputs": [
    {
     "name": "stdout",
     "output_type": "stream",
     "text": [
      "\n",
      " Using join() : \n",
      "   key_df1  data1 key_df2  data2\n",
      "0       b      0       a      3\n",
      "1       a      4       b      6\n",
      "2       d      6       d      9\n",
      "3       e      8       f     11\n"
     ]
    }
   ],
   "source": [
    "#print('\\n Using join() : \\n', df1.join(df2))\n",
    "print('\\n Using join() : \\n',df1.join(df2,lsuffix='_df1', rsuffix='_df2'))\n",
    "#lsuffix='_x', rsuffix='_y'\n",
    "#default is left join"
   ]
  },
  {
   "cell_type": "code",
   "execution_count": 30,
   "metadata": {},
   "outputs": [
    {
     "name": "stdout",
     "output_type": "stream",
     "text": [
      "DataFrame1 :\n",
      "    key  data1\n",
      "10   b      0\n",
      "20   a      4\n",
      "30   d      6\n",
      "40   e      8 \n",
      " DataFrame2 :\n",
      "    key  data1\n",
      "40   a      3\n",
      "50   b      6\n",
      "60   d      9\n",
      "70   f     11\n",
      "\n",
      " Using merge on indices:\n",
      "    key_x  data1_x key_y  data1_y\n",
      "40     e        8     a        3\n"
     ]
    }
   ],
   "source": [
    "df1=pd.DataFrame({'key' :['b', 'a', 'd', 'e'], 'data1' :[0,4,6,8]}, index=[10,20,30,40])\n",
    "df2=pd.DataFrame({'key' :['a', 'b', 'd', 'f'], 'data1' :[3,6,9,11]}, index=[40,50,60,70])\n",
    "print(\"DataFrame1 :\\n\", df1, '\\n DataFrame2 :\\n',df2)\n",
    "#print('\\n', pd.merge(df1,df2,how='inner', left_index=True,right_index=True))\n",
    "print('\\n Using merge on indices:\\n', pd.merge(df1,df2,how='inner', left_index=True,right_index=True))"
   ]
  },
  {
   "cell_type": "code",
   "execution_count": 32,
   "metadata": {},
   "outputs": [
    {
     "name": "stdout",
     "output_type": "stream",
     "text": [
      "DataFrame1 :\n",
      "    key  data1\n",
      "10   b      0\n",
      "20   a      4\n",
      "30   d      6\n",
      "40   e      8 \n",
      " DataFrame2 :\n",
      "    key  data1\n",
      "40   a      3\n",
      "50   b      6\n",
      "60   d      9\n",
      "70   f     11\n",
      "\n",
      "    key_x  data1_x key_y  data1_y\n",
      "40     e        8     a        3\n",
      "\n",
      " Using merge on indices:\n",
      "    key_x  data1_x key_y  data1_y\n",
      "40     e        8     a        3\n"
     ]
    }
   ],
   "source": [
    "df1=pd.DataFrame({'key' :['b', 'a', 'd', 'e'], 'data1' :[0,4,6,8]}, index=[10,20,30,40])\n",
    "df2=pd.DataFrame({'key' :['a', 'b', 'd', 'f'], 'data1' :[3,6,9,11]}, index=[40,50,60,70])\n",
    "print(\"DataFrame1 :\\n\", df1, '\\n DataFrame2 :\\n',df2)\n",
    "print('\\n', pd.merge(df1,df2,how='inner', left_index=True,right_index=True))\n",
    "print('\\n Using merge on indices:\\n', pd.merge(df1,df2,how='inner', left_index=True,right_index=True))"
   ]
  },
  {
   "cell_type": "code",
   "execution_count": 43,
   "metadata": {},
   "outputs": [
    {
     "name": "stdout",
     "output_type": "stream",
     "text": [
      "DataFrame1 :\n",
      "   kay  data11\n",
      "0   b      10\n",
      "1   b      20\n",
      "2   a      30\n",
      "3   c      40\n",
      "4   a      50 \n",
      " DataFrame2 :\n",
      "   kay  data12\n",
      "0   a     100\n",
      "1   b     200\n",
      "2   a     300\n",
      "3   d     400\n"
     ]
    }
   ],
   "source": [
    "# If we want to join using the key columns,we need to set key to be index in both df1 and df2\n",
    "# The joint DataFrame will then have the key as it's index\n",
    "df1=pd.DataFrame({'key':['b','b','a','c','a'], 'data11':[10,20,30,40,50]})\n",
    "# has multiple rows lebelled a and b\n",
    "df2=pd.DataFrame({'key':['a','b','a','d'], 'data12':[100,200,300,400]})\n",
    "print(\"DataFrame1 :\\n\", df1, '\\n DataFrame2 :\\n',df2)"
   ]
  },
  {
   "cell_type": "code",
   "execution_count": 57,
   "metadata": {},
   "outputs": [
    {
     "name": "stdout",
     "output_type": "stream",
     "text": [
      "\n",
      " Using merge on indices : \n",
      "      data11  data12\n",
      "key                \n",
      "a        30     100\n",
      "a        30     300\n",
      "a        50     100\n",
      "a        50     300\n",
      "b        10     200\n",
      "b        20     200\n"
     ]
    }
   ],
   "source": [
    "dfn1=df1.set_index('key')\n",
    "dfn2=df2.set_index('key')\n",
    "print('\\n Using merge on indices : \\n' , pd.merge(dfn1, dfn2, how='inner', left_index=True, right_index=True))"
   ]
  },
  {
   "cell_type": "code",
   "execution_count": 60,
   "metadata": {},
   "outputs": [
    {
     "name": "stdout",
     "output_type": "stream",
     "text": [
      "\n",
      " Using merge on indices : \n",
      "      data11  data12\n",
      "key                \n",
      "a        30     100\n",
      "a        30     300\n",
      "a        50     100\n",
      "a        50     300\n",
      "b        10     200\n",
      "b        20     200\n",
      "\n",
      " Using join() : \n",
      "      data11  data12\n",
      "key                \n",
      "a        30   100.0\n",
      "a        30   300.0\n",
      "a        50   100.0\n",
      "a        50   300.0\n",
      "b        10   200.0\n",
      "b        20   200.0\n",
      "c        40     NaN\n"
     ]
    }
   ],
   "source": [
    "dfn1=df1.set_index('key')\n",
    "dfn2=df2.set_index('key')\n",
    "print('\\n Using merge on indices : \\n' , pd.merge(dfn1, dfn2, left_index=True, right_index=True))\n",
    "#  For merge how=inner\n",
    "print('\\n Using join() : \\n', dfn1.join(dfn2,lsuffix='_x', rsuffix='_y'))\n",
    "# for join how='left' by default"
   ]
  },
  {
   "cell_type": "code",
   "execution_count": 50,
   "metadata": {},
   "outputs": [
    {
     "name": "stdout",
     "output_type": "stream",
     "text": [
      "DataFrame1 :\n",
      "   key  data11\n",
      "0   b      10\n",
      "1   b      20\n",
      "2   a      30\n",
      "3   c      40\n",
      "4   a      50 \n",
      " DataFrame2 :\n",
      "   key  data12\n",
      "0   a     100\n",
      "1   b     200\n",
      "2   a     300\n",
      "3   d     400\n",
      "     data11\n",
      "key        \n",
      "b        10\n",
      "b        20\n",
      "a        30\n",
      "c        40\n",
      "a        50\n",
      "     data12\n",
      "key        \n",
      "a       100\n",
      "b       200\n",
      "a       300\n",
      "d       400\n"
     ]
    }
   ],
   "source": [
    "df1=pd.DataFrame({'key':['b','b','a','c','a'], 'data11':[10,20,30,40,50]})\n",
    "df2=pd.DataFrame({'key':['a','b','a','d'], 'data12':[100,200,300,400]})\n",
    "print(\"DataFrame1 :\\n\", df1, '\\n DataFrame2 :\\n',df2)\n",
    "dfn1=df1.set_index('key')\n",
    "dfn2=df2.set_index('key')\n",
    "print(dfn1)\n",
    "print(dfn2)"
   ]
  },
  {
   "cell_type": "code",
   "execution_count": 51,
   "metadata": {},
   "outputs": [
    {
     "name": "stdout",
     "output_type": "stream",
     "text": [
      "DataFrame1 :\n",
      "   key  data11\n",
      "0   b      10\n",
      "1   b      20\n",
      "2   a      30\n",
      "3   c      40\n",
      "4   a      50 \n",
      " DataFrame2 :\n",
      "   key  data12\n",
      "0   a     100\n",
      "1   b     200\n",
      "2   a     300\n",
      "3   d     400\n",
      "     data11\n",
      "key        \n",
      "b        10\n",
      "b        20\n",
      "a        30\n",
      "c        40\n",
      "a        50\n",
      "     data12\n",
      "key        \n",
      "a       100\n",
      "b       200\n",
      "a       300\n",
      "d       400\n",
      "\n",
      " Using merge on indices:\n",
      "      data11  data12\n",
      "key                \n",
      "a        30     100\n",
      "a        30     300\n",
      "a        50     100\n",
      "a        50     300\n",
      "b        10     200\n",
      "b        20     200\n"
     ]
    }
   ],
   "source": [
    "df1=pd.DataFrame({'key':['b','b','a','c','a'], 'data11':[10,20,30,40,50]})\n",
    "df2=pd.DataFrame({'key':['a','b','a','d'], 'data12':[100,200,300,400]})\n",
    "print(\"DataFrame1 :\\n\", df1, '\\n DataFrame2 :\\n',df2)\n",
    "dfn1=df1.set_index('key')\n",
    "dfn2=df2.set_index('key')\n",
    "print(dfn1)\n",
    "print(dfn2)\n",
    "print('\\n Using merge on indices:\\n',pd.merge(dfn1,dfn2,left_index=True,right_index=True))\n"
   ]
  },
  {
   "cell_type": "code",
   "execution_count": null,
   "metadata": {},
   "outputs": [],
   "source": []
  },
  {
   "cell_type": "code",
   "execution_count": null,
   "metadata": {},
   "outputs": [],
   "source": []
  }
 ],
 "metadata": {
  "kernelspec": {
   "display_name": "Python 3",
   "language": "python",
   "name": "python3"
  },
  "language_info": {
   "codemirror_mode": {
    "name": "ipython",
    "version": 3
   },
   "file_extension": ".py",
   "mimetype": "text/x-python",
   "name": "python",
   "nbconvert_exporter": "python",
   "pygments_lexer": "ipython3",
   "version": "3.7.6"
  }
 },
 "nbformat": 4,
 "nbformat_minor": 4
}
